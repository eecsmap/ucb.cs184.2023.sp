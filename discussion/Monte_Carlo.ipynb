{
  "nbformat": 4,
  "nbformat_minor": 0,
  "metadata": {
    "colab": {
      "provenance": []
    },
    "kernelspec": {
      "name": "python3",
      "display_name": "Python 3"
    },
    "widgets": {
      "application/vnd.jupyter.widget-state+json": {
        "0563305a862e471c8b6877ac9a8c4fd4": {
          "model_module": "@jupyter-widgets/controls",
          "model_name": "VBoxModel",
          "model_module_version": "1.5.0",
          "state": {
            "_view_name": "VBoxView",
            "_dom_classes": [
              "widget-interact"
            ],
            "_model_name": "VBoxModel",
            "_view_module": "@jupyter-widgets/controls",
            "_model_module_version": "1.5.0",
            "_view_count": null,
            "_view_module_version": "1.5.0",
            "box_style": "",
            "layout": "IPY_MODEL_cf647a9d3467408e9238bbdba41fdd7b",
            "_model_module": "@jupyter-widgets/controls",
            "children": [
              "IPY_MODEL_160d780ea5ee4da09e8c80b0474ff7bd",
              "IPY_MODEL_07a0d4f6dd3c4fcf937f08ec5166d3e7"
            ]
          }
        },
        "cf647a9d3467408e9238bbdba41fdd7b": {
          "model_module": "@jupyter-widgets/base",
          "model_name": "LayoutModel",
          "model_module_version": "1.2.0",
          "state": {
            "_view_name": "LayoutView",
            "grid_template_rows": null,
            "right": null,
            "justify_content": null,
            "_view_module": "@jupyter-widgets/base",
            "overflow": null,
            "_model_module_version": "1.2.0",
            "_view_count": null,
            "flex_flow": null,
            "width": null,
            "min_width": null,
            "border": null,
            "align_items": null,
            "bottom": null,
            "_model_module": "@jupyter-widgets/base",
            "top": null,
            "grid_column": null,
            "overflow_y": null,
            "overflow_x": null,
            "grid_auto_flow": null,
            "grid_area": null,
            "grid_template_columns": null,
            "flex": null,
            "_model_name": "LayoutModel",
            "justify_items": null,
            "grid_row": null,
            "max_height": null,
            "align_content": null,
            "visibility": null,
            "align_self": null,
            "height": null,
            "min_height": null,
            "padding": null,
            "grid_auto_rows": null,
            "grid_gap": null,
            "max_width": null,
            "order": null,
            "_view_module_version": "1.2.0",
            "grid_template_areas": null,
            "object_position": null,
            "object_fit": null,
            "grid_auto_columns": null,
            "margin": null,
            "display": null,
            "left": null
          }
        },
        "160d780ea5ee4da09e8c80b0474ff7bd": {
          "model_module": "@jupyter-widgets/controls",
          "model_name": "IntSliderModel",
          "model_module_version": "1.5.0",
          "state": {
            "_view_name": "IntSliderView",
            "style": "IPY_MODEL_72d7c608c04141a1ad5ce3238fa9dbe7",
            "_dom_classes": [],
            "description": "samples",
            "step": 1,
            "_model_name": "IntSliderModel",
            "orientation": "horizontal",
            "max": 1000,
            "_view_module": "@jupyter-widgets/controls",
            "_model_module_version": "1.5.0",
            "value": 943,
            "_view_count": null,
            "disabled": false,
            "_view_module_version": "1.5.0",
            "min": 5,
            "continuous_update": true,
            "readout_format": "d",
            "description_tooltip": null,
            "readout": true,
            "_model_module": "@jupyter-widgets/controls",
            "layout": "IPY_MODEL_1d0241c2855e406baa7f4726a4b6c448"
          }
        },
        "07a0d4f6dd3c4fcf937f08ec5166d3e7": {
          "model_module": "@jupyter-widgets/output",
          "model_name": "OutputModel",
          "model_module_version": "1.0.0",
          "state": {
            "_view_name": "OutputView",
            "msg_id": "",
            "_dom_classes": [],
            "_model_name": "OutputModel",
            "outputs": [
              {
                "output_type": "stream",
                "name": "stdout",
                "text": [
                  "Monte Carlo estimation: -83.464103\n",
                  "Riemann Sum estimation: -48.151641\n",
                  "Analytical Sum (true): -48.510676\n"
                ]
              },
              {
                "output_type": "display_data",
                "data": {
                  "image/png": "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\n",
                  "text/plain": "<Figure size 432x288 with 2 Axes>"
                },
                "metadata": {
                  "needs_background": "light"
                }
              }
            ],
            "_view_module": "@jupyter-widgets/output",
            "_model_module_version": "1.0.0",
            "_view_count": null,
            "_view_module_version": "1.0.0",
            "layout": "IPY_MODEL_02b38efed9c4411ca24aab4405bc1917",
            "_model_module": "@jupyter-widgets/output"
          }
        },
        "72d7c608c04141a1ad5ce3238fa9dbe7": {
          "model_module": "@jupyter-widgets/controls",
          "model_name": "SliderStyleModel",
          "model_module_version": "1.5.0",
          "state": {
            "_view_name": "StyleView",
            "handle_color": null,
            "_model_name": "SliderStyleModel",
            "description_width": "",
            "_view_module": "@jupyter-widgets/base",
            "_model_module_version": "1.5.0",
            "_view_count": null,
            "_view_module_version": "1.2.0",
            "_model_module": "@jupyter-widgets/controls"
          }
        },
        "1d0241c2855e406baa7f4726a4b6c448": {
          "model_module": "@jupyter-widgets/base",
          "model_name": "LayoutModel",
          "model_module_version": "1.2.0",
          "state": {
            "_view_name": "LayoutView",
            "grid_template_rows": null,
            "right": null,
            "justify_content": null,
            "_view_module": "@jupyter-widgets/base",
            "overflow": null,
            "_model_module_version": "1.2.0",
            "_view_count": null,
            "flex_flow": null,
            "width": null,
            "min_width": null,
            "border": null,
            "align_items": null,
            "bottom": null,
            "_model_module": "@jupyter-widgets/base",
            "top": null,
            "grid_column": null,
            "overflow_y": null,
            "overflow_x": null,
            "grid_auto_flow": null,
            "grid_area": null,
            "grid_template_columns": null,
            "flex": null,
            "_model_name": "LayoutModel",
            "justify_items": null,
            "grid_row": null,
            "max_height": null,
            "align_content": null,
            "visibility": null,
            "align_self": null,
            "height": null,
            "min_height": null,
            "padding": null,
            "grid_auto_rows": null,
            "grid_gap": null,
            "max_width": null,
            "order": null,
            "_view_module_version": "1.2.0",
            "grid_template_areas": null,
            "object_position": null,
            "object_fit": null,
            "grid_auto_columns": null,
            "margin": null,
            "display": null,
            "left": null
          }
        },
        "02b38efed9c4411ca24aab4405bc1917": {
          "model_module": "@jupyter-widgets/base",
          "model_name": "LayoutModel",
          "model_module_version": "1.2.0",
          "state": {
            "_view_name": "LayoutView",
            "grid_template_rows": null,
            "right": null,
            "justify_content": null,
            "_view_module": "@jupyter-widgets/base",
            "overflow": null,
            "_model_module_version": "1.2.0",
            "_view_count": null,
            "flex_flow": null,
            "width": null,
            "min_width": null,
            "border": null,
            "align_items": null,
            "bottom": null,
            "_model_module": "@jupyter-widgets/base",
            "top": null,
            "grid_column": null,
            "overflow_y": null,
            "overflow_x": null,
            "grid_auto_flow": null,
            "grid_area": null,
            "grid_template_columns": null,
            "flex": null,
            "_model_name": "LayoutModel",
            "justify_items": null,
            "grid_row": null,
            "max_height": null,
            "align_content": null,
            "visibility": null,
            "align_self": null,
            "height": "400px",
            "min_height": null,
            "padding": null,
            "grid_auto_rows": null,
            "grid_gap": null,
            "max_width": null,
            "order": null,
            "_view_module_version": "1.2.0",
            "grid_template_areas": null,
            "object_position": null,
            "object_fit": null,
            "grid_auto_columns": null,
            "margin": null,
            "display": null,
            "left": null
          }
        },
        "b60c95257ab14e4c95556ec371714d08": {
          "model_module": "@jupyter-widgets/controls",
          "model_name": "VBoxModel",
          "model_module_version": "1.5.0",
          "state": {
            "_view_name": "VBoxView",
            "_dom_classes": [
              "widget-interact"
            ],
            "_model_name": "VBoxModel",
            "_view_module": "@jupyter-widgets/controls",
            "_model_module_version": "1.5.0",
            "_view_count": null,
            "_view_module_version": "1.5.0",
            "box_style": "",
            "layout": "IPY_MODEL_0d038bf997cf40a79c3d8da78a27b01f",
            "_model_module": "@jupyter-widgets/controls",
            "children": [
              "IPY_MODEL_db9d1c7474ff49b18778e6dd664b324d",
              "IPY_MODEL_7f1cf45bd80b45698a2e137cb136cadb",
              "IPY_MODEL_3d22b7f5a086414cb53993afcd207681"
            ]
          }
        },
        "0d038bf997cf40a79c3d8da78a27b01f": {
          "model_module": "@jupyter-widgets/base",
          "model_name": "LayoutModel",
          "model_module_version": "1.2.0",
          "state": {
            "_view_name": "LayoutView",
            "grid_template_rows": null,
            "right": null,
            "justify_content": null,
            "_view_module": "@jupyter-widgets/base",
            "overflow": null,
            "_model_module_version": "1.2.0",
            "_view_count": null,
            "flex_flow": null,
            "width": null,
            "min_width": null,
            "border": null,
            "align_items": null,
            "bottom": null,
            "_model_module": "@jupyter-widgets/base",
            "top": null,
            "grid_column": null,
            "overflow_y": null,
            "overflow_x": null,
            "grid_auto_flow": null,
            "grid_area": null,
            "grid_template_columns": null,
            "flex": null,
            "_model_name": "LayoutModel",
            "justify_items": null,
            "grid_row": null,
            "max_height": null,
            "align_content": null,
            "visibility": null,
            "align_self": null,
            "height": null,
            "min_height": null,
            "padding": null,
            "grid_auto_rows": null,
            "grid_gap": null,
            "max_width": null,
            "order": null,
            "_view_module_version": "1.2.0",
            "grid_template_areas": null,
            "object_position": null,
            "object_fit": null,
            "grid_auto_columns": null,
            "margin": null,
            "display": null,
            "left": null
          }
        },
        "db9d1c7474ff49b18778e6dd664b324d": {
          "model_module": "@jupyter-widgets/controls",
          "model_name": "IntSliderModel",
          "model_module_version": "1.5.0",
          "state": {
            "_view_name": "IntSliderView",
            "style": "IPY_MODEL_c57374e4c24748d282e16922c03b1d18",
            "_dom_classes": [],
            "description": "samples",
            "step": 1,
            "_model_name": "IntSliderModel",
            "orientation": "horizontal",
            "max": 1000,
            "_view_module": "@jupyter-widgets/controls",
            "_model_module_version": "1.5.0",
            "value": 502,
            "_view_count": null,
            "disabled": false,
            "_view_module_version": "1.5.0",
            "min": 5,
            "continuous_update": true,
            "readout_format": "d",
            "description_tooltip": null,
            "readout": true,
            "_model_module": "@jupyter-widgets/controls",
            "layout": "IPY_MODEL_49012636b6dc43aca3325563d03405dc"
          }
        },
        "7f1cf45bd80b45698a2e137cb136cadb": {
          "model_module": "@jupyter-widgets/controls",
          "model_name": "IntSliderModel",
          "model_module_version": "1.5.0",
          "state": {
            "_view_name": "IntSliderView",
            "style": "IPY_MODEL_d43f27a503f9492c8b3a616ee3af3e1f",
            "_dom_classes": [],
            "description": "num_trial",
            "step": 1,
            "_model_name": "IntSliderModel",
            "orientation": "horizontal",
            "max": 50,
            "_view_module": "@jupyter-widgets/controls",
            "_model_module_version": "1.5.0",
            "value": 25,
            "_view_count": null,
            "disabled": false,
            "_view_module_version": "1.5.0",
            "min": 1,
            "continuous_update": true,
            "readout_format": "d",
            "description_tooltip": null,
            "readout": true,
            "_model_module": "@jupyter-widgets/controls",
            "layout": "IPY_MODEL_68db7f7bb5b84031a388a5ff51972615"
          }
        },
        "3d22b7f5a086414cb53993afcd207681": {
          "model_module": "@jupyter-widgets/output",
          "model_name": "OutputModel",
          "model_module_version": "1.0.0",
          "state": {
            "_view_name": "OutputView",
            "msg_id": "",
            "_dom_classes": [],
            "_model_name": "OutputModel",
            "outputs": [
              {
                "output_type": "display_data",
                "data": {
                  "image/png": "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\n",
                  "text/plain": "<Figure size 432x288 with 1 Axes>"
                },
                "metadata": {
                  "needs_background": "light"
                }
              }
            ],
            "_view_module": "@jupyter-widgets/output",
            "_model_module_version": "1.0.0",
            "_view_count": null,
            "_view_module_version": "1.0.0",
            "layout": "IPY_MODEL_796efcb329b441bd8129b7dc80fc9cad",
            "_model_module": "@jupyter-widgets/output"
          }
        },
        "c57374e4c24748d282e16922c03b1d18": {
          "model_module": "@jupyter-widgets/controls",
          "model_name": "SliderStyleModel",
          "model_module_version": "1.5.0",
          "state": {
            "_view_name": "StyleView",
            "handle_color": null,
            "_model_name": "SliderStyleModel",
            "description_width": "",
            "_view_module": "@jupyter-widgets/base",
            "_model_module_version": "1.5.0",
            "_view_count": null,
            "_view_module_version": "1.2.0",
            "_model_module": "@jupyter-widgets/controls"
          }
        },
        "49012636b6dc43aca3325563d03405dc": {
          "model_module": "@jupyter-widgets/base",
          "model_name": "LayoutModel",
          "model_module_version": "1.2.0",
          "state": {
            "_view_name": "LayoutView",
            "grid_template_rows": null,
            "right": null,
            "justify_content": null,
            "_view_module": "@jupyter-widgets/base",
            "overflow": null,
            "_model_module_version": "1.2.0",
            "_view_count": null,
            "flex_flow": null,
            "width": null,
            "min_width": null,
            "border": null,
            "align_items": null,
            "bottom": null,
            "_model_module": "@jupyter-widgets/base",
            "top": null,
            "grid_column": null,
            "overflow_y": null,
            "overflow_x": null,
            "grid_auto_flow": null,
            "grid_area": null,
            "grid_template_columns": null,
            "flex": null,
            "_model_name": "LayoutModel",
            "justify_items": null,
            "grid_row": null,
            "max_height": null,
            "align_content": null,
            "visibility": null,
            "align_self": null,
            "height": null,
            "min_height": null,
            "padding": null,
            "grid_auto_rows": null,
            "grid_gap": null,
            "max_width": null,
            "order": null,
            "_view_module_version": "1.2.0",
            "grid_template_areas": null,
            "object_position": null,
            "object_fit": null,
            "grid_auto_columns": null,
            "margin": null,
            "display": null,
            "left": null
          }
        },
        "d43f27a503f9492c8b3a616ee3af3e1f": {
          "model_module": "@jupyter-widgets/controls",
          "model_name": "SliderStyleModel",
          "model_module_version": "1.5.0",
          "state": {
            "_view_name": "StyleView",
            "handle_color": null,
            "_model_name": "SliderStyleModel",
            "description_width": "",
            "_view_module": "@jupyter-widgets/base",
            "_model_module_version": "1.5.0",
            "_view_count": null,
            "_view_module_version": "1.2.0",
            "_model_module": "@jupyter-widgets/controls"
          }
        },
        "68db7f7bb5b84031a388a5ff51972615": {
          "model_module": "@jupyter-widgets/base",
          "model_name": "LayoutModel",
          "model_module_version": "1.2.0",
          "state": {
            "_view_name": "LayoutView",
            "grid_template_rows": null,
            "right": null,
            "justify_content": null,
            "_view_module": "@jupyter-widgets/base",
            "overflow": null,
            "_model_module_version": "1.2.0",
            "_view_count": null,
            "flex_flow": null,
            "width": null,
            "min_width": null,
            "border": null,
            "align_items": null,
            "bottom": null,
            "_model_module": "@jupyter-widgets/base",
            "top": null,
            "grid_column": null,
            "overflow_y": null,
            "overflow_x": null,
            "grid_auto_flow": null,
            "grid_area": null,
            "grid_template_columns": null,
            "flex": null,
            "_model_name": "LayoutModel",
            "justify_items": null,
            "grid_row": null,
            "max_height": null,
            "align_content": null,
            "visibility": null,
            "align_self": null,
            "height": null,
            "min_height": null,
            "padding": null,
            "grid_auto_rows": null,
            "grid_gap": null,
            "max_width": null,
            "order": null,
            "_view_module_version": "1.2.0",
            "grid_template_areas": null,
            "object_position": null,
            "object_fit": null,
            "grid_auto_columns": null,
            "margin": null,
            "display": null,
            "left": null
          }
        },
        "796efcb329b441bd8129b7dc80fc9cad": {
          "model_module": "@jupyter-widgets/base",
          "model_name": "LayoutModel",
          "model_module_version": "1.2.0",
          "state": {
            "_view_name": "LayoutView",
            "grid_template_rows": null,
            "right": null,
            "justify_content": null,
            "_view_module": "@jupyter-widgets/base",
            "overflow": null,
            "_model_module_version": "1.2.0",
            "_view_count": null,
            "flex_flow": null,
            "width": null,
            "min_width": null,
            "border": null,
            "align_items": null,
            "bottom": null,
            "_model_module": "@jupyter-widgets/base",
            "top": null,
            "grid_column": null,
            "overflow_y": null,
            "overflow_x": null,
            "grid_auto_flow": null,
            "grid_area": null,
            "grid_template_columns": null,
            "flex": null,
            "_model_name": "LayoutModel",
            "justify_items": null,
            "grid_row": null,
            "max_height": null,
            "align_content": null,
            "visibility": null,
            "align_self": null,
            "height": "400px",
            "min_height": null,
            "padding": null,
            "grid_auto_rows": null,
            "grid_gap": null,
            "max_width": null,
            "order": null,
            "_view_module_version": "1.2.0",
            "grid_template_areas": null,
            "object_position": null,
            "object_fit": null,
            "grid_auto_columns": null,
            "margin": null,
            "display": null,
            "left": null
          }
        },
        "ac5004bbf1f34e7caedb975a630c6846": {
          "model_module": "@jupyter-widgets/controls",
          "model_name": "VBoxModel",
          "model_module_version": "1.5.0",
          "state": {
            "_view_name": "VBoxView",
            "_dom_classes": [
              "widget-interact"
            ],
            "_model_name": "VBoxModel",
            "_view_module": "@jupyter-widgets/controls",
            "_model_module_version": "1.5.0",
            "_view_count": null,
            "_view_module_version": "1.5.0",
            "box_style": "",
            "layout": "IPY_MODEL_b8af53662e184774b9056471465903a8",
            "_model_module": "@jupyter-widgets/controls",
            "children": [
              "IPY_MODEL_bbf72cec98b54c35b9917743d4df0546",
              "IPY_MODEL_93502962960e4de0a657803b06f2f17c"
            ]
          }
        },
        "b8af53662e184774b9056471465903a8": {
          "model_module": "@jupyter-widgets/base",
          "model_name": "LayoutModel",
          "model_module_version": "1.2.0",
          "state": {
            "_view_name": "LayoutView",
            "grid_template_rows": null,
            "right": null,
            "justify_content": null,
            "_view_module": "@jupyter-widgets/base",
            "overflow": null,
            "_model_module_version": "1.2.0",
            "_view_count": null,
            "flex_flow": null,
            "width": null,
            "min_width": null,
            "border": null,
            "align_items": null,
            "bottom": null,
            "_model_module": "@jupyter-widgets/base",
            "top": null,
            "grid_column": null,
            "overflow_y": null,
            "overflow_x": null,
            "grid_auto_flow": null,
            "grid_area": null,
            "grid_template_columns": null,
            "flex": null,
            "_model_name": "LayoutModel",
            "justify_items": null,
            "grid_row": null,
            "max_height": null,
            "align_content": null,
            "visibility": null,
            "align_self": null,
            "height": null,
            "min_height": null,
            "padding": null,
            "grid_auto_rows": null,
            "grid_gap": null,
            "max_width": null,
            "order": null,
            "_view_module_version": "1.2.0",
            "grid_template_areas": null,
            "object_position": null,
            "object_fit": null,
            "grid_auto_columns": null,
            "margin": null,
            "display": null,
            "left": null
          }
        },
        "bbf72cec98b54c35b9917743d4df0546": {
          "model_module": "@jupyter-widgets/controls",
          "model_name": "IntSliderModel",
          "model_module_version": "1.5.0",
          "state": {
            "_view_name": "IntSliderView",
            "style": "IPY_MODEL_2ceb802d7b484b9ba5cbf538af773fe0",
            "_dom_classes": [],
            "description": "samples",
            "step": 1,
            "_model_name": "IntSliderModel",
            "orientation": "horizontal",
            "max": 1000,
            "_view_module": "@jupyter-widgets/controls",
            "_model_module_version": "1.5.0",
            "value": 500,
            "_view_count": null,
            "disabled": false,
            "_view_module_version": "1.5.0",
            "min": 0,
            "continuous_update": true,
            "readout_format": "d",
            "description_tooltip": null,
            "readout": true,
            "_model_module": "@jupyter-widgets/controls",
            "layout": "IPY_MODEL_1c21aa179297414489d0538eabc2e639"
          }
        },
        "93502962960e4de0a657803b06f2f17c": {
          "model_module": "@jupyter-widgets/output",
          "model_name": "OutputModel",
          "model_module_version": "1.0.0",
          "state": {
            "_view_name": "OutputView",
            "msg_id": "",
            "_dom_classes": [],
            "_model_name": "OutputModel",
            "outputs": [
              {
                "output_type": "display_data",
                "data": {
                  "image/png": "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\n",
                  "text/plain": "<Figure size 1080x360 with 2 Axes>"
                },
                "metadata": {
                  "needs_background": "light"
                }
              }
            ],
            "_view_module": "@jupyter-widgets/output",
            "_model_module_version": "1.0.0",
            "_view_count": null,
            "_view_module_version": "1.0.0",
            "layout": "IPY_MODEL_44db552205e24724aede4394cfe7a54c",
            "_model_module": "@jupyter-widgets/output"
          }
        },
        "2ceb802d7b484b9ba5cbf538af773fe0": {
          "model_module": "@jupyter-widgets/controls",
          "model_name": "SliderStyleModel",
          "model_module_version": "1.5.0",
          "state": {
            "_view_name": "StyleView",
            "handle_color": null,
            "_model_name": "SliderStyleModel",
            "description_width": "",
            "_view_module": "@jupyter-widgets/base",
            "_model_module_version": "1.5.0",
            "_view_count": null,
            "_view_module_version": "1.2.0",
            "_model_module": "@jupyter-widgets/controls"
          }
        },
        "1c21aa179297414489d0538eabc2e639": {
          "model_module": "@jupyter-widgets/base",
          "model_name": "LayoutModel",
          "model_module_version": "1.2.0",
          "state": {
            "_view_name": "LayoutView",
            "grid_template_rows": null,
            "right": null,
            "justify_content": null,
            "_view_module": "@jupyter-widgets/base",
            "overflow": null,
            "_model_module_version": "1.2.0",
            "_view_count": null,
            "flex_flow": null,
            "width": null,
            "min_width": null,
            "border": null,
            "align_items": null,
            "bottom": null,
            "_model_module": "@jupyter-widgets/base",
            "top": null,
            "grid_column": null,
            "overflow_y": null,
            "overflow_x": null,
            "grid_auto_flow": null,
            "grid_area": null,
            "grid_template_columns": null,
            "flex": null,
            "_model_name": "LayoutModel",
            "justify_items": null,
            "grid_row": null,
            "max_height": null,
            "align_content": null,
            "visibility": null,
            "align_self": null,
            "height": null,
            "min_height": null,
            "padding": null,
            "grid_auto_rows": null,
            "grid_gap": null,
            "max_width": null,
            "order": null,
            "_view_module_version": "1.2.0",
            "grid_template_areas": null,
            "object_position": null,
            "object_fit": null,
            "grid_auto_columns": null,
            "margin": null,
            "display": null,
            "left": null
          }
        },
        "44db552205e24724aede4394cfe7a54c": {
          "model_module": "@jupyter-widgets/base",
          "model_name": "LayoutModel",
          "model_module_version": "1.2.0",
          "state": {
            "_view_name": "LayoutView",
            "grid_template_rows": null,
            "right": null,
            "justify_content": null,
            "_view_module": "@jupyter-widgets/base",
            "overflow": null,
            "_model_module_version": "1.2.0",
            "_view_count": null,
            "flex_flow": null,
            "width": null,
            "min_width": null,
            "border": null,
            "align_items": null,
            "bottom": null,
            "_model_module": "@jupyter-widgets/base",
            "top": null,
            "grid_column": null,
            "overflow_y": null,
            "overflow_x": null,
            "grid_auto_flow": null,
            "grid_area": null,
            "grid_template_columns": null,
            "flex": null,
            "_model_name": "LayoutModel",
            "justify_items": null,
            "grid_row": null,
            "max_height": null,
            "align_content": null,
            "visibility": null,
            "align_self": null,
            "height": "400px",
            "min_height": null,
            "padding": null,
            "grid_auto_rows": null,
            "grid_gap": null,
            "max_width": null,
            "order": null,
            "_view_module_version": "1.2.0",
            "grid_template_areas": null,
            "object_position": null,
            "object_fit": null,
            "grid_auto_columns": null,
            "margin": null,
            "display": null,
            "left": null
          }
        }
      }
    }
  },
  "cells": [
    {
      "cell_type": "markdown",
      "metadata": {
        "id": "Lo78Lk3Z0Kld"
      },
      "source": [
        "# 08 - **Monte Carlo**\n",
        "\n",
        "This notebook shows using different methods such as riemann sum and monte carlo method to estimate simple integrals. It also demonstrates uniform sampling on a disk, the right way and the wrong way.\n"
      ]
    },
    {
      "cell_type": "code",
      "metadata": {
        "id": "zBbbnRfp0CZP"
      },
      "source": [
        "import numpy as np\n",
        "from PIL import Image\n",
        "import matplotlib.pyplot as plt\n",
        "\n",
        "from ipywidgets import interactive\n",
        "import ipywidgets as widgets\n",
        "import math\n",
        "import imageio\n"
      ],
      "execution_count": null,
      "outputs": []
    },
    {
      "cell_type": "markdown",
      "metadata": {
        "id": "IMCikEQQKilF"
      },
      "source": [
        "## Estimating an integral\n",
        "\n",
        "Here we show two ways to estimate a single 1D function. To evaluate these two estimates, we analytically compute the true integral of the function.\n",
        "\n",
        "We can see both riemann sum and monte carlo are able to improve performance with more samples. For this simple and smooth function, Riemann sum converges faster."
      ]
    },
    {
      "cell_type": "code",
      "metadata": {
        "id": "h3MD0p3WOsK9",
        "colab": {
          "base_uri": "https://localhost:8080/",
          "height": 466,
          "referenced_widgets": [
            "0563305a862e471c8b6877ac9a8c4fd4",
            "cf647a9d3467408e9238bbdba41fdd7b",
            "160d780ea5ee4da09e8c80b0474ff7bd",
            "07a0d4f6dd3c4fcf937f08ec5166d3e7",
            "72d7c608c04141a1ad5ce3238fa9dbe7",
            "1d0241c2855e406baa7f4726a4b6c448",
            "02b38efed9c4411ca24aab4405bc1917"
          ]
        },
        "outputId": "8d39ec48-8359-4724-e91f-b2f509e80b7f"
      },
      "source": [
        "def analy_int(x):\n",
        "  return np.sin(x) - x * np.cos(x)\n",
        "\n",
        "def function(x):\n",
        "  return x * np.sin(x)\n",
        "\n",
        "plt.figure(figsize=(10, 5))\n",
        "def riemannint(function, a, b, n):\n",
        "  sumval = 0\n",
        "  h = (b-a)/n\n",
        "  curvals = np.zeros((n,))\n",
        "  curx = np.zeros((n,))\n",
        "  for i in range(0, n):\n",
        "    current_x = a+i*h\n",
        "    curval = function(current_x) * h\n",
        "    curx[i] = current_x\n",
        "    curvals[i] = curval\n",
        "    sumval += curval\n",
        "  plt.subplot(2, 1, 1)\n",
        "  plt.plot(curx, curvals, 'b.')\n",
        "  return sumval\n",
        "\n",
        "def montecarlo_uniform(function, a, b, n):\n",
        "  sumval = 0.0\n",
        "  curx = np.random.uniform(a,b,n)\n",
        "  curvals = np.zeros((n,))\n",
        "  for indx, i in enumerate(curx):\n",
        "    i = float(i)\n",
        "    curval = function(i) * (b-a)/n\n",
        "    curvals[indx] = curval\n",
        "    sumval += curval\n",
        "  plt.subplot(2, 1, 2)\n",
        "  plt.plot(curx, curvals, 'm.')\n",
        "  return sumval\n",
        "\n",
        "def plot_estimate(samples):\n",
        "  a = 0\n",
        "  b = 50\n",
        "  sum_mce = montecarlo_uniform(function, a, b, samples)\n",
        "  sum_rms = riemannint(function, a, b, samples)\n",
        "  print('Monte Carlo estimation: %f'%(sum_mce))\n",
        "  print('Riemann Sum estimation: %f'%(sum_rms))\n",
        "  print('Analytical Sum (true): %f'%(analy_int(b) - analy_int(a)))\n",
        "\n",
        "plt.show()  \n",
        "\n",
        "interactive_plot = interactive(plot_estimate, samples=(5, 1000))  # index starts from zero\n",
        "output = interactive_plot.children[-1]\n",
        "output.layout.height = '400px'\n",
        "interactive_plot\n"
      ],
      "execution_count": null,
      "outputs": [
        {
          "output_type": "display_data",
          "data": {
            "text/plain": [
              "<Figure size 720x360 with 0 Axes>"
            ]
          },
          "metadata": {}
        },
        {
          "output_type": "display_data",
          "data": {
            "application/vnd.jupyter.widget-view+json": {
              "model_id": "0563305a862e471c8b6877ac9a8c4fd4",
              "version_minor": 0,
              "version_major": 2
            },
            "text/plain": [
              "interactive(children=(IntSlider(value=502, description='samples', max=1000, min=5), Output(layout=Layout(heigh…"
            ]
          },
          "metadata": {}
        }
      ]
    },
    {
      "cell_type": "markdown",
      "metadata": {
        "id": "1Q6N2K_l21Nc"
      },
      "source": [
        "### Importance sampling\n",
        "\n",
        "Here we estimate the integral of the sin function using uniform monte carlo and a pdf that approxiamtes the shape of the sin function for importance sampling"
      ]
    },
    {
      "cell_type": "code",
      "metadata": {
        "id": "WhcRpgh52jQh",
        "colab": {
          "base_uri": "https://localhost:8080/",
          "height": 743,
          "referenced_widgets": [
            "b60c95257ab14e4c95556ec371714d08",
            "0d038bf997cf40a79c3d8da78a27b01f",
            "db9d1c7474ff49b18778e6dd664b324d",
            "7f1cf45bd80b45698a2e137cb136cadb",
            "3d22b7f5a086414cb53993afcd207681",
            "c57374e4c24748d282e16922c03b1d18",
            "49012636b6dc43aca3325563d03405dc",
            "d43f27a503f9492c8b3a616ee3af3e1f",
            "68db7f7bb5b84031a388a5ff51972615",
            "796efcb329b441bd8129b7dc80fc9cad"
          ]
        },
        "outputId": "1f9d7d71-88c3-43c8-fc07-bfb84e869c8d"
      },
      "source": [
        "def plot_func(n):\n",
        "  x = np.pi/2 * np.random.random_sample((n,))\n",
        "  y1 = np.sin(x)\n",
        "  y2 = (2 / np.pi) * np.ones_like(x)\n",
        "  y3 = 8*x / np.pi**2\n",
        "  plt.plot(x, y1, '.')\n",
        "  plt.plot(x, y2, '.')\n",
        "  plt.plot(x, y3, '.')\n",
        "  plt.legend(['sin(x)', 'uniform', '8x/pi*pi'])\n",
        "  plt.xlabel('x')\n",
        "  plt.ylabel('y')\n",
        "  plt.show()\n",
        "\n",
        "def montecarlo(n, num_trial):\n",
        "  uniform_trial = np.zeros((num_trial,))\n",
        "  import_trial = np.zeros((num_trial,))\n",
        "  for ti in range(num_trial):\n",
        "    sum_uniform = 0.\n",
        "    sum_import = 0.\n",
        "    for i in range(n):\n",
        "      rand = np.random.uniform()\n",
        "      sum_uniform += math.sin(rand * np.pi * 0.5)\n",
        "      xi = np.sqrt(rand) * np.pi * 0.5\n",
        "      sum_import += math.sin(xi) / ((8*xi)/np.pi**2)\n",
        "    sum_uniform *= np.pi * 0.5 / float(n)\n",
        "    sum_import *= 1./n\n",
        "    # print('Using uniform samling estimates:%f'%(sum_uniform))\n",
        "    # print('Using importance samling estimates:%f'%(sum_import))\n",
        "    uniform_trial[ti] = sum_uniform\n",
        "    import_trial[ti] = sum_import\n",
        "  return uniform_trial, import_trial\n",
        "\n",
        "plot_func(100)\n",
        "\n",
        "def compare_sampling(samples, num_trial):\n",
        "  uniform_trial, import_trial = montecarlo(n=samples, num_trial=num_trial)\n",
        "  plt.plot(uniform_trial, 'bo-')\n",
        "  plt.plot(import_trial, 'mo-')\n",
        "  plt.plot(np.ones_like(import_trial), 'ro-')\n",
        "  plt.legend(['uniform sampling', 'importance sampling', 'true integral'])\n",
        "  plt.ylim([0.95, 1.05])\n",
        "  plt.xlabel('Trial')\n",
        "  plt.ylabel('Integrated value')\n",
        "  plt.show()\n",
        "\n",
        "interactive_plot = interactive(compare_sampling, samples=(5, 1000), num_trial=(1, 50))  # index starts from zero\n",
        "output = interactive_plot.children[-1]\n",
        "output.layout.height = '400px'\n",
        "interactive_plot\n"
      ],
      "execution_count": null,
      "outputs": [
        {
          "output_type": "display_data",
          "data": {
            "image/png": "[encoded data removed]",
            "text/plain": [
              "<Figure size 432x288 with 1 Axes>"
            ]
          },
          "metadata": {
            "needs_background": "light"
          }
        },
        {
          "output_type": "display_data",
          "data": {
            "application/vnd.jupyter.widget-view+json": {
              "model_id": "b60c95257ab14e4c95556ec371714d08",
              "version_minor": 0,
              "version_major": 2
            },
            "text/plain": [
              "interactive(children=(IntSlider(value=502, description='samples', max=1000, min=5), IntSlider(value=25, descri…"
            ]
          },
          "metadata": {}
        }
      ]
    },
    {
      "cell_type": "markdown",
      "metadata": {
        "id": "cDlpZw8ad7sD"
      },
      "source": [
        "## Uniform sampling on a unit disk"
      ]
    },
    {
      "cell_type": "code",
      "metadata": {
        "id": "0FRxy5t2d_tN",
        "colab": {
          "base_uri": "https://localhost:8080/",
          "height": 449,
          "referenced_widgets": [
            "ac5004bbf1f34e7caedb975a630c6846",
            "b8af53662e184774b9056471465903a8",
            "bbf72cec98b54c35b9917743d4df0546",
            "93502962960e4de0a657803b06f2f17c",
            "2ceb802d7b484b9ba5cbf538af773fe0",
            "1c21aa179297414489d0538eabc2e639",
            "44db552205e24724aede4394cfe7a54c"
          ]
        },
        "outputId": "f3636785-1791-4381-9852-6ddaa7285fa3"
      },
      "source": [
        "\n",
        "def uniform_biased(sample):\n",
        "  r = np.random.uniform(0, 1, sample)\n",
        "  theta = np.random.uniform(0, 2*np.pi, sample)\n",
        "  \n",
        "  plt.subplot(1, 2, 1)\n",
        "  plt.scatter(r * np.cos(theta), r*np.sin(theta), alpha=0.5)\n",
        "  plt.axis('equal')\n",
        "  plt.title('Biased sampling')\n",
        "\n",
        "def uniform_unbiased(sample):\n",
        "  r = np.random.uniform(0, 1, sample)\n",
        "  theta = np.random.uniform(0, 1, sample)\n",
        "\n",
        "  r = np.sqrt(r)\n",
        "  theta = 2 * np.pi * theta\n",
        "  ;\n",
        "  plt.subplot(1, 2, 2)\n",
        "  plt.scatter(r * np.cos(theta), r*np.sin(theta), alpha=0.5)\n",
        "  plt.axis('equal')\n",
        "  plt.title('Unbiased sampling')\n",
        "\n",
        "def sample_disc(samples):\n",
        "  plt.figure(figsize=(15, 5))\n",
        "  uniform_biased(samples)\n",
        "  uniform_unbiased(samples)\n",
        "  plt.show()  \n",
        "\n",
        "interactive_plot = interactive(sample_disc, samples=(0, 1000))  # index starts from zero\n",
        "output = interactive_plot.children[-1]\n",
        "output.layout.height = '400px'\n",
        "interactive_plot\n"
      ],
      "execution_count": null,
      "outputs": [
        {
          "output_type": "display_data",
          "data": {
            "application/vnd.jupyter.widget-view+json": {
              "model_id": "ac5004bbf1f34e7caedb975a630c6846",
              "version_minor": 0,
              "version_major": 2
            },
            "text/plain": [
              "interactive(children=(IntSlider(value=500, description='samples', max=1000), Output(layout=Layout(height='400p…"
            ]
          },
          "metadata": {}
        }
      ]
    },
    {
      "cell_type": "code",
      "source": [],
      "metadata": {
        "id": "YZzlQ0lNqajv"
      },
      "execution_count": null,
      "outputs": []
    }
  ]
}