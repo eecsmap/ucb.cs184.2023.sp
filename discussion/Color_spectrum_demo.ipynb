{
  "nbformat": 4,
  "nbformat_minor": 0,
  "metadata": {
    "colab": {
      "provenance": []
    },
    "kernelspec": {
      "name": "python3",
      "display_name": "Python 3"
    },
    "language_info": {
      "name": "python"
    }
  },
  "cells": [
    {
      "cell_type": "markdown",
      "source": [
        "# 10. Color Spaces\n",
        "This notebook visualizes different the color spaces that we learn in class (RGB, HSV, CIELAB) and demonstrates how they affect how images are displayed"
      ],
      "metadata": {
        "id": "WauNxFkx-vzj"
      }
    },
    {
      "cell_type": "code",
      "source": [
        "!pip install colormath"
      ],
      "metadata": {
        "id": "vk-X1EBe4_oU",
        "colab": {
          "base_uri": "https://localhost:8080/"
        },
        "outputId": "eeee0e4a-0347-43fe-d1c9-6853f879481d"
      },
      "execution_count": null,
      "outputs": [
        {
          "output_type": "stream",
          "name": "stdout",
          "text": [
            "Collecting colormath\n",
            "  Downloading colormath-3.0.0.tar.gz (39 kB)\n",
            "Requirement already satisfied: numpy in /usr/local/lib/python3.7/dist-packages (from colormath) (1.21.5)\n",
            "Requirement already satisfied: networkx>=2.0 in /usr/local/lib/python3.7/dist-packages (from colormath) (2.6.3)\n",
            "Building wheels for collected packages: colormath\n",
            "  Building wheel for colormath (setup.py) ... \u001b[?25l\u001b[?25hdone\n",
            "  Created wheel for colormath: filename=colormath-3.0.0-py3-none-any.whl size=39408 sha256=390f7d582441a67b9cfb4f209fd610bc87faf0913feb4346006c7ba66f7a0493\n",
            "  Stored in directory: /root/.cache/pip/wheels/1a/d7/a7/458a4632ccc8bfe436f5e9db9fef1aa84e5d243a1b4b4c7b59\n",
            "Successfully built colormath\n",
            "Installing collected packages: colormath\n",
            "Successfully installed colormath-3.0.0\n"
          ]
        }
      ]
    },
    {
      "cell_type": "code",
      "source": [
        "from colormath.color_conversions import convert_color\n",
        "import matplotlib.pyplot as plt\n",
        "import numpy as np\n",
        "\n",
        "STEPS = 50\n",
        "\n",
        "def color_gradient(rgb0, rgb1, ColorSpace, steps=STEPS):\n",
        "  \n",
        "  # Convert colors to chosen color space \n",
        "  color_start = convert_color(rgb0, ColorSpace)\n",
        "  color_end = convert_color(rgb1, ColorSpace)\n",
        "  c0 = np.array(color_start.get_value_tuple())\n",
        "  c1 = np.array(color_end.get_value_tuple())\n",
        "\n",
        "  rgb_colors = list()\n",
        "  for i in range(steps):\n",
        "    # Interpolate from start to end in the given color space \n",
        "    c_i = c0 + (i/(steps-1)) * (c1 - c0)\n",
        "    color_i = ColorSpace(*c_i)\n",
        "\n",
        "    # Convert back to sRGB for viewing \n",
        "    rgb_i = convert_color(color_i, sRGBColor)\n",
        "    rgb_colors.append(rgb_i.get_value_tuple())\n",
        "\n",
        "  return rgb_colors\n",
        "\n",
        "\n",
        "def show_gradient(rgb0, rgb1, ColorSpace): \n",
        "\tcolor_array = color_gradient(rgb0, rgb1, ColorSpace) \n",
        "\tcolors_final = np.vstack([[color_array], [color_array], [color_array]]) \n",
        "\t\n",
        "\tprint(ColorSpace.__name__) \n",
        "\tplt.figure(figsize = (20,2))\n",
        "\tplt.imshow(colors_final) \n",
        "\tplt.show()\n",
        "\tprint()\n",
        "\n",
        "\n"
      ],
      "metadata": {
        "id": "WiAni4tW4f3n"
      },
      "execution_count": null,
      "outputs": []
    },
    {
      "cell_type": "markdown",
      "source": [
        "## Given a range of RGB values, represent it in different color spaces!"
      ],
      "metadata": {
        "id": "O3O17QsxYY9x"
      }
    },
    {
      "cell_type": "code",
      "source": [
        "from colormath.color_objects import sRGBColor, LabColor, HSVColor\n",
        "from colormath.color_objects import XYZColor, AdobeRGBColor, CMYKColor\n",
        "\n",
        "# Start and end colors. \n",
        "rgb0 = sRGBColor(1,0,0) # Edit me!\n",
        "rgb1 = sRGBColor(0,0,1) # Edit me! \n",
        "\n",
        "show_gradient(rgb0, rgb1, sRGBColor)\n",
        "show_gradient(rgb0, rgb1, AdobeRGBColor) \n",
        "\n",
        "# show_gradient(rgb0, rgb1, HSVColor) \n",
        "# show_gradient(rgb0, rgb1, LabColor)\n",
        "\n",
        "\n"
      ],
      "metadata": {
        "colab": {
          "base_uri": "https://localhost:8080/",
          "height": 258
        },
        "id": "mNtG53hAXyO8",
        "outputId": "f9dade3c-f380-4a9a-d5e8-8e1c67b945e9"
      },
      "execution_count": null,
      "outputs": [
        {
          "output_type": "stream",
          "name": "stdout",
          "text": [
            "sRGBColor\n"
          ]
        },
        {
          "output_type": "display_data",
          "data": {
            "text/plain": [
              "<Figure size 1440x144 with 1 Axes>"
            ],
            "image/png": "[encoded data removed]"
          },
          "metadata": {
            "needs_background": "light"
          }
        },
        {
          "output_type": "stream",
          "name": "stdout",
          "text": [
            "\n",
            "AdobeRGBColor\n"
          ]
        },
        {
          "output_type": "display_data",
          "data": {
            "text/plain": [
              "<Figure size 1440x144 with 1 Axes>"
            ],
            "image/png": "[encoded data removed]"
          },
          "metadata": {
            "needs_background": "light"
          }
        },
        {
          "output_type": "stream",
          "name": "stdout",
          "text": [
            "\n"
          ]
        }
      ]
    },
    {
      "cell_type": "code",
      "source": [],
      "metadata": {
        "id": "h9OC2J1AJdwn"
      },
      "execution_count": null,
      "outputs": []
    }
  ]
}