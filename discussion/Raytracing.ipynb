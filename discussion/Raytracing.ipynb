{
  "nbformat": 4,
  "nbformat_minor": 0,
  "metadata": {
    "colab": {
      "provenance": []
    },
    "kernelspec": {
      "name": "python3",
      "display_name": "Python 3"
    }
  },
  "cells": [
    {
      "cell_type": "markdown",
      "metadata": {
        "id": "eULRnTEutFgH"
      },
      "source": [
        "# **Raytracing**"
      ]
    },
    {
      "cell_type": "code",
      "metadata": {
        "id": "PEuQTJa48wh1"
      },
      "source": [
        "import numpy as np\n",
        "import matplotlib.pyplot as plt"
      ],
      "execution_count": null,
      "outputs": []
    },
    {
      "cell_type": "markdown",
      "metadata": {
        "id": "b12CEqWDtWUH"
      },
      "source": [
        "## Ray-sphere intersection"
      ]
    },
    {
      "cell_type": "code",
      "metadata": {
        "id": "iEIXUYNMtJ5E",
        "colab": {
          "base_uri": "https://localhost:8080/",
          "height": 283
        },
        "outputId": "4d7800c2-ebda-4d46-b6d8-bb625a6535bd"
      },
      "source": [
        "# Sphere parameters\n",
        "center = np.array([.2, .3])\n",
        "radius = .1\n",
        "\n",
        "# Ray parameters\n",
        "ray_o = np.array([0., 0.])\n",
        "ray_d = np.array([.5, .5])\n",
        "\n",
        "# Compute intersections\n",
        "\n",
        "a = np.dot(ray_d, ray_d)\n",
        "b = 2 * np.dot(ray_o - center, ray_d)\n",
        "c = np.dot(ray_o - center, ray_o - center) - radius ** 2\n",
        "\n",
        "discr = b**2 - 4*a*c\n",
        "\n",
        "t = None\n",
        "if discr == 0.:\n",
        "  t = -b / (2. * a)\n",
        "  if t < 0:\n",
        "    t = None\n",
        "elif discr > 0.:\n",
        "  discr = np.sqrt(discr)\n",
        "  t_vals = [(-b - discr) / (2. * a), (-b + discr) / (2. * a)]\n",
        "  if t_vals[0] >= 0:\n",
        "    t = t_vals[0]\n",
        "  elif t_vals[1] >= 0:\n",
        "    t = t_vals[1]\n",
        "  else:\n",
        "    t = None\n",
        "\n",
        "\n",
        "# Plot\n",
        "\n",
        "th = np.linspace(0., 1., 256+1) * 2. * np.pi\n",
        "circle_pts = center + radius * np.stack([np.cos(th), np.sin(th)], -1)\n",
        "plt.plot(*circle_pts.T)\n",
        "plt.scatter(*ray_o)\n",
        "plt.plot(*np.stack([ray_o, ray_o + ray_d]).T)\n",
        "if t is not None:\n",
        "  plt.scatter(*(ray_o + t * ray_d))\n",
        "plt.axis('equal')"
      ],
      "execution_count": null,
      "outputs": [
        {
          "output_type": "execute_result",
          "data": {
            "text/plain": [
              "(-0.025, 0.525, -0.025, 0.525)"
            ]
          },
          "metadata": {},
          "execution_count": 2
        },
        {
          "output_type": "display_data",
          "data": {
            "image/png": "[encoded data removed]",
            "text/plain": [
              "<Figure size 432x288 with 1 Axes>"
            ]
          },
          "metadata": {
            "needs_background": "light"
          }
        }
      ]
    },
    {
      "cell_type": "code",
      "metadata": {
        "id": "L_EXoN3CvTd1",
        "colab": {
          "base_uri": "https://localhost:8080/",
          "height": 265
        },
        "outputId": "bfb9c89c-7fc0-4683-e481-e549a69f6e34"
      },
      "source": [
        "#@title # Interactive Example  { run: \"auto\" }\n",
        "origin_x = -0.3 #@param {type:\"slider\", min:-0.5, max:0.5, step:0.1}\n",
        "origin_y = 0 #@param {type:\"slider\", min:-0.5, max:0.5, step:0.1}\n",
        "angle = -10 #@param {type:\"slider\", min:-180, max:180, step:10}\n",
        "\n",
        "center = np.array([.2, .3])\n",
        "radius = .1\n",
        "\n",
        "ray_o = np.array([origin_x, origin_y])\n",
        "rth = angle / 180. * np.pi\n",
        "dx, dy = np.cos(rth), np.sin(rth)\n",
        "ray_d = np.array([dx, dy])\n",
        "\n",
        "a = np.dot(ray_d, ray_d)\n",
        "b = 2 * np.dot(ray_o - center, ray_d)\n",
        "c = np.dot(ray_o - center, ray_o - center) - radius ** 2\n",
        "\n",
        "discr = b**2 - 4*a*c\n",
        "\n",
        "t = None\n",
        "if discr == 0.:\n",
        "    t = -b / (2. * a)\n",
        "    if t < 0:\n",
        "      t = None\n",
        "elif discr > 0.:\n",
        "    discr = np.sqrt(discr)\n",
        "    t_vals = [(-b - discr) / (2. * a), (-b + discr) / (2. * a)]\n",
        "    if t_vals[0] >= 0:\n",
        "      t = t_vals[0]\n",
        "    elif t_vals[1] >= 0:\n",
        "      t = t_vals[1]\n",
        "    else:\n",
        "      t = None\n",
        "\n",
        "\n",
        "th = np.linspace(0., 1., 256+1) * 2. * np.pi\n",
        "circle_pts = center + radius * np.stack([np.cos(th), np.sin(th)], -1)\n",
        "\n",
        "plt.figure(2)\n",
        "plt.plot(*circle_pts.T)\n",
        "plt.scatter(*ray_o)\n",
        "plt.plot(*np.stack([ray_o, ray_o + .1 * ray_d]).T)\n",
        "if t is not None:\n",
        "    plt.scatter(*(ray_o + t * ray_d))\n",
        "plt.axis('equal')\n",
        "plt.show()\n"
      ],
      "execution_count": null,
      "outputs": [
        {
          "output_type": "display_data",
          "data": {
            "image/png": "[encoded data removed]",
            "text/plain": [
              "<Figure size 432x288 with 1 Axes>"
            ]
          },
          "metadata": {
            "needs_background": "light"
          }
        }
      ]
    },
    {
      "cell_type": "code",
      "source": [],
      "metadata": {
        "id": "c5gVCMDDxvpb"
      },
      "execution_count": null,
      "outputs": []
    },
    {
      "cell_type": "code",
      "source": [],
      "metadata": {
        "id": "Z34Vh03AwG65"
      },
      "execution_count": null,
      "outputs": []
    }
  ]
}